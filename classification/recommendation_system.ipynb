{
 "cells": [
  {
   "cell_type": "code",
   "execution_count": 1,
   "metadata": {},
   "outputs": [],
   "source": [
    "from nearest_neighbors import *"
   ]
  },
  {
   "cell_type": "code",
   "execution_count": 2,
   "metadata": {},
   "outputs": [],
   "source": [
    "#importing dataset\n",
    "path = \"/Users/antoinelevy/Downloads/books_data/books.csv\"\n",
    "books_data = pd.read_csv(path, \n",
    "            delimiter =';', \n",
    "            encoding='latin1', \n",
    "            on_bad_lines='skip', \n",
    "            low_memory = False)\n",
    "\n",
    "books_data = books_data.dropna()"
   ]
  },
  {
   "cell_type": "code",
   "execution_count": 3,
   "metadata": {},
   "outputs": [],
   "source": [
    "#fitting the model to the training data\n",
    "model = NearestNeighbors(n_neighbors=5, algorithm='auto')\n",
    "feature_list = [books_data['Book-Title'], books_data['Book-Author'], books_data['Publisher']]\n",
    "feature_vectorizers = training_fitting(model,feature_list)"
   ]
  },
  {
   "cell_type": "code",
   "execution_count": 4,
   "metadata": {},
   "outputs": [],
   "source": [
    "#retrieving five closest neighbors to book in row 1 (this can be done with a new data point)\n",
    "new_book = books_data.iloc[1]\n",
    "new_feature_list = [new_book['Book-Title'], new_book['Book-Author'], new_book['Publisher']]\n",
    "distances, indices = get_nearest_neighbors(model, new_feature_list, feature_vectorizers)\n",
    "\n"
   ]
  },
  {
   "cell_type": "code",
   "execution_count": 9,
   "metadata": {},
   "outputs": [
    {
     "data": {
      "text/plain": [
       "[1                                              Clara Callan\n",
       " 85731                                Clara Callan : A Novel\n",
       " 220181                               Clara Callan : A Novel\n",
       " 69226                                The teacher's daughter\n",
       " 73234     Labyrinth of Desire: Women, Passion, and Roman...\n",
       " Name: Book-Title, dtype: object]"
      ]
     },
     "execution_count": 9,
     "metadata": {},
     "output_type": "execute_result"
    }
   ],
   "source": [
    "#retrieving the closest book titles from original datasources\n",
    "nearest_book_titles = []\n",
    "for index in indices:\n",
    "    book = books_data.iloc[index]\n",
    "    book_title = book['Book-Title']\n",
    "    nearest_book_titles.append(book_title)\n",
    "\n",
    "nearest_book_titles"
   ]
  }
 ],
 "metadata": {
  "kernelspec": {
   "display_name": "Python 3",
   "language": "python",
   "name": "python3"
  },
  "language_info": {
   "codemirror_mode": {
    "name": "ipython",
    "version": 3
   },
   "file_extension": ".py",
   "mimetype": "text/x-python",
   "name": "python",
   "nbconvert_exporter": "python",
   "pygments_lexer": "ipython3",
   "version": "3.11.5"
  },
  "orig_nbformat": 4
 },
 "nbformat": 4,
 "nbformat_minor": 2
}
